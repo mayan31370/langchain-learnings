{
 "cells": [
  {
   "cell_type": "code",
   "execution_count": null,
   "metadata": {},
   "outputs": [],
   "source": [
    "%pip install langchain openai chromadb pandoc unstructured ebooklib sentence-transformers tiktoken ipywidgets"
   ]
  },
  {
   "cell_type": "markdown",
   "metadata": {},
   "source": [
    "## 读取知识库\n",
    "这里只是简答的读取epub格式后进行分割之后在存入向量数据库\n",
    "### 读取三国演义"
   ]
  },
  {
   "cell_type": "code",
   "execution_count": null,
   "metadata": {},
   "outputs": [],
   "source": [
    "from langchain.document_loaders import UnstructuredEPubLoader\n",
    "from langchain.text_splitter import RecursiveCharacterTextSplitter\n",
    "from langchain.embeddings import HuggingFaceEmbeddings\n",
    "from langchain.vectorstores import Chroma\n",
    "import time\n",
    "\n",
    "timer = time.time()\n",
    "loader = UnstructuredEPubLoader('three.epub')\n",
    "docs = loader.load()\n",
    "print(\"load\",time.time()-timer)\n",
    "timer = time.time()\n",
    "\n",
    "text_splitter = RecursiveCharacterTextSplitter(chunk_size=500, chunk_overlap=100)\n",
    "split_docs = text_splitter.split_documents(docs)\n",
    "print(\"split\",time.time()-timer,len(split_docs))\n",
    "timer = time.time()\n",
    "\n",
    "embeddings=HuggingFaceEmbeddings(model_name='shibing624/text2vec-base-chinese')\n",
    "persist_directory=\"./chroma_db\"\n",
    "vectorstore = Chroma(\"three\",embeddings,persist_directory)\n",
    "for i in range(len(split_docs)):\n",
    "    if i%10==0:\n",
    "        print(\"[{}] {} / {}\".format(time.ctime(),i,len(split_docs)))\n",
    "    vectorstore.add_documents([split_docs[i]])\n",
    "print(\"embedding\",time.time()-timer)"
   ]
  },
  {
   "cell_type": "markdown",
   "metadata": {},
   "source": [
    "### 读取《神雕侠侣》\n",
    "这里尝试使用更长的分片来进行"
   ]
  },
  {
   "cell_type": "code",
   "execution_count": null,
   "metadata": {},
   "outputs": [],
   "source": [
    "from langchain.document_loaders import UnstructuredEPubLoader\n",
    "from langchain.text_splitter import RecursiveCharacterTextSplitter\n",
    "from langchain.embeddings import HuggingFaceEmbeddings\n",
    "from langchain.vectorstores import Chroma\n",
    "import time\n",
    "\n",
    "timer = time.time()\n",
    "loader = UnstructuredEPubLoader('shendiao.epub')\n",
    "docs = loader.load()\n",
    "print(\"load\",time.time()-timer)\n",
    "timer = time.time()\n",
    "\n",
    "text_splitter = RecursiveCharacterTextSplitter(chunk_size=1000, chunk_overlap=200)\n",
    "split_docs = text_splitter.split_documents(docs)\n",
    "print(\"split\",time.time()-timer,len(split_docs))\n",
    "timer = time.time()\n",
    "\n",
    "embeddings=HuggingFaceEmbeddings(model_name='shibing624/text2vec-base-chinese')\n",
    "persist_directory=\"./chroma_db\"\n",
    "vectorstore = Chroma(\"shendiao\",embeddings,persist_directory)\n",
    "for i in range(len(split_docs)):\n",
    "    if i%10==0:\n",
    "        print(\"[{}] {} / {}\".format(time.ctime(),i,len(split_docs)))\n",
    "    vectorstore.add_documents([split_docs[i]])\n",
    "print(\"embedding\",time.time()-timer)"
   ]
  },
  {
   "cell_type": "markdown",
   "metadata": {},
   "source": [
    "## 提问流程\n",
    "好像文言文的信息量有点大，常规的向量计算可能得优化"
   ]
  },
  {
   "cell_type": "code",
   "execution_count": null,
   "metadata": {},
   "outputs": [],
   "source": [
    "from langchain.embeddings import HuggingFaceEmbeddings\n",
    "from langchain.vectorstores import Chroma\n",
    "from langchain.llms import OpenAI\n",
    "from langchain.chains.question_answering import load_qa_chain\n",
    "\n",
    "embeddings=HuggingFaceEmbeddings(model_name='shibing624/text2vec-base-chinese')\n",
    "vectorstore = Chroma(\"three\",persist_directory=\"./chroma_db\", embedding_function=embeddings)\n",
    "\n",
    "llm = OpenAI(temperature=0,model_name=\"gpt-3.5-turbo-16k\")\n",
    "chain = load_qa_chain(llm, chain_type=\"stuff\")\n",
    "\n",
    "query = \"关羽是被谁害死的？\"\n",
    "similar_docs = vectorstore.similarity_search(query, 5)\n",
    "\n",
    "for d in similar_docs:\n",
    "    print(\"======\\n{}\".format(d.page_content))\n",
    "\n",
    "chain.run(input_documents=similar_docs, question=query)"
   ]
  },
  {
   "cell_type": "markdown",
   "metadata": {},
   "source": [
    "### 再试试《神雕侠侣》的提问"
   ]
  },
  {
   "cell_type": "code",
   "execution_count": 1,
   "metadata": {},
   "outputs": [
    {
     "name": "stderr",
     "output_type": "stream",
     "text": [
      "C:\\Users\\mayan\\AppData\\Local\\Packages\\PythonSoftwareFoundation.Python.3.10_qbz5n2kfra8p0\\LocalCache\\local-packages\\Python310\\site-packages\\langchain\\llms\\openai.py:202: UserWarning: You are trying to use a chat model. This way of initializing it is no longer supported. Instead, please use: `from langchain.chat_models import ChatOpenAI`\n",
      "  warnings.warn(\n",
      "C:\\Users\\mayan\\AppData\\Local\\Packages\\PythonSoftwareFoundation.Python.3.10_qbz5n2kfra8p0\\LocalCache\\local-packages\\Python310\\site-packages\\langchain\\llms\\openai.py:790: UserWarning: You are trying to use a chat model. This way of initializing it is no longer supported. Instead, please use: `from langchain.chat_models import ChatOpenAI`\n",
      "  warnings.warn(\n"
     ]
    },
    {
     "name": "stdout",
     "output_type": "stream",
     "text": [
      "======\n",
      "陆无双又问：“杨大哥。你手臂到底是怎生断的？伤势可全愈了么？”杨过道：“早就好了。是给人斩断的。”陆无双怒道：“是哪个该死的恶贼？他定然使了卑鄙的奸计，是不是？是那万恶的女魔头么？”\n",
      "\n",
      "忽然背后一个女子声音冷笑道：“你这般背后骂人，难道便不卑鄙么？”陆无双等吃了一惊，回过头来，只见说话的是个美貌少女，正是郭芙。她手持剑柄，怒容满面，身旁男男女女站着好几个人。\n",
      "\n",
      "陆无双奇道：“我又没骂你，我是骂那斩断杨大哥手臂的恶贼。”\n",
      "\n",
      "刷的一响，郭芙长剑从鞘中抽出了一半，说道：“他的手臂便是我斩断的。我赔不是也赔过了，给爹爹妈妈也责罚过了，你们还在背后这般恶毒的骂我……”说到这里，眼眶一红，心中委屈无限。\n",
      "\n",
      "※※※\n",
      "\n",
      "原来武三通、郭芙、耶律齐、武氏兄弟等在小溪中避火，待火势弱了，才缘溪水而下，和黄蓉及完颜萍、耶律燕相遇，便到绝情谷来。一行人比一灯、杨过等早到了半日，只是在谷前谷后遍寻天竺僧和朱子柳被困之处不获，耽搁了不少时光。至于李莫愁师徒和程英姊姊进入绝情谷，却均是被周伯通童心大发而分别引来。\n",
      "\n",
      "当下黄蓉、武三通等向一灯行礼，各人互相引见。程英从未见过黄蓉，但久闻这位师姊的大名，一直十分钦仰，当下恭恭敬敬的上前磕头，叫了声：“师姊！”黄蓉从杨过口中早知父亲暮年又收了个女徒，这时见她丰神秀美，问起父亲，得知身体安健，更是欢喜。\n",
      "\n",
      "守在林旁的绿衣弟子见入谷外敌会合，声势甚盛，不敢出手拦阻，飞报裘千尺去了。\n",
      "\n",
      "郭芙和陆无双怒目对视，心中互相憎恨。郭芙听母亲吩咐，竟要对程英长辈称呼，更是不喜，那一声“师叔”叫得异常勉强。\n",
      "\n",
      "杨过和小龙女携手远远的站着。杨过向小龙女臂弯中抱着的郭襄瞧了一眼，说道：“龙儿，把这女孩儿还给她母亲罢。”小龙女举起郭襄，在她颊上亲了亲，走过去递给黄蓉，说道：“郭夫人，你的孩儿。”黄蓉称谢接过，这女孩儿自出娘胎后，直到此刻，她方始安安稳稳的抱在怀里，这份喜悦之情自是不可言喻。\n",
      "\n",
      "杨过对郭芙朗声说道：“郭姑娘，你妹子安好无恚，我可没拿她去换救命解药。”郭芙怒道：“我妈妈来了，你自然不敢。你若无此心，抱我妹妹到此来干么？”按照杨过往日的脾性，立时便要反唇相稽，但他近月来迭遭生死大变，于这些口舌之争已不放在心上，只淡淡一笑，便和小龙女携手走开。\n",
      "======\n",
      "这时杨过头脑中也是大感晕眩，已知李莫愁运使五毒神掌时剧毒逼入掌心，适才与她手掌相交，不但剧毒传入自己体内，更传到了小龙女身上。\n",
      "\n",
      "杨过提起玄铁重剑，喝道：“快取解药来！”举剑当头砍下。李莫愁举拂尘挡架，铮的一声，精钢所铸的拂尘柄断为两截，虎口也震得鲜血长流。她这柄拂尘以柔力为主，不知会过天下多少英雄豪杰，但被人兵刃震断，却是从未有之事，只吓得她心惊胆战，急忙跃出石室。杨过提剑追去，左臂前送，眼见这一剑李莫愁万难招架得住，不料体内毒性发作，眼前金星乱冒，手臂酸软无力，当的一声，玄铁剑掉落在地。\n",
      "\n",
      "李莫愁不敢停步，向前窜出丈余，这才回过头来，只见杨过摇摇晃晃，伸手扶住墙壁，心想：“这小子武功古怪之极，我稍待片刻，让他毒发跌倒，才可走近。”\n",
      "\n",
      "杨过咽喉干痛，头胀欲裂，当下劲贯左臂，只待李莫愁近前，一掌将她击毙，哪知她站得远远的竟不过来。杨过“啊”一声，仆跌在地，手掌已按住玄铁剑的剑柄。李莫愁这时已成惊弓之鸟，不敢贪功冒进，算定已立于不败之地，仍是站着静观其变。\n",
      "\n",
      "杨过心想多挨一刻时光，自己和小龙女身上的毒便深一层，拖延下去，只于敌人有利，当下吸一口气，内息流转，晕眩少止，握住玄铁剑剑柄，站了起来，反身伸臂抱住小龙女腰间，喝道：“让路！”大踏步向外走出。李莫愁见他气势凛然，不敢阻拦。\n",
      "\n",
      "杨过只盼走入一间石室，关上室门让李莫愁不能进来，小龙女任督两脉已通，只须半个时辰，两人便可将体内毒液逼出。此事比之打通关脉易过百倍。杨过幼时中了李莫愁银针之毒，一得欧阳锋传授，即时将毒液驱出，眼前两人如此功力，自是毫不为难。\n",
      "\n",
      "李莫愁自也知他心意，哪容他二人驱毒之后再来动手？她不敢逼近袭击，不即不离的跟随在后，和杨过始终相距五尺。杨过站定了等她过来，她也即站定不动。\n",
      "\n",
      "杨过但觉胸腔中一颗心越跳越是厉害，似乎要从口中窜将出来，实在无法再行支持，跌跌冲冲的奔进一间石室，将小龙女在一张石桌上一放，伸手扶住桌面，大声喘气，明知李莫愁跟在身后，也顾不得了。稍过片刻，才知竟是来到停放石棺之处，自己手上所扶、小龙女置身的所在，乃是一具石棺。\n",
      "\n",
      "李莫愁从师学艺之时，在古墓中也住过不少时候，暗中视物的本事虽然不及杨龙二人，却也瞧清楚石室中并列五具石棺，其中一具石棺棺底便是地下秘道的门户，她适才正是由此进来，心想：“你们想从这里逃出去吗？这次可没这么容易了。”\n",
      "======\n",
      "郭芙吃了一惊，回过头来，见骑在马背的竟是杨过，心中腾的一跳，“啊”的一声叫了出来，急忙拔剑在手。小龙女的淑女剑虽利，她自是不愿使用，手中所持，仍是常用的那柄利剑。\n",
      "\n",
      "杨过见她脸色苍白，目光中尽是惧色，他此时若要斩断她右臂，实是易如反掌，但事到临头，竟然下不了手，哼的一声，挥出右臂，空袖子已裹住了她长剑，向外甩出。郭芙哪里还拿捏得住，长剑脱手，直撞向墙角。杨过左手抢过马缰，双腿一夹，小红马向前急冲，绝尘而去。郭芙只吓得手足酸软，慢慢走到墙角拾起长剑，剑身在墙角上猛力碰撞，竟已弯得便如一把曲尺。\n",
      "\n",
      "以柔物施展刚劲，原是古墓派武功的精要所在，李莫愁使拂尘、小龙女使绸带，皆是这门功夫。杨过此时内劲既强，袖子一拂，实不下于钢鞭巨杵之撞击。\n",
      "\n",
      "杨过抱了郭襄，骑着汗血宝马向北疾驰，不多时便已掠过襄阳，奔行了数十里，因此黄蓉虽攀上树顶极目远眺，却瞧不见他的踪影。\n",
      "\n",
      "杨过骑在马上，眼见道旁树木如飞般向后倒退，俯首看看怀中的郭襄，见她睡得正沉，一张小脸秀美娇嫩，心道：“郭伯伯、郭伯母这个小女儿，我总是不还他们了，也算报了我这断臂之仇。他们这时心中的难过懊丧，只怕尤胜于我。”奔了一阵，转念又想：“杨过啊杨过，是不是你天生的风流性儿作祟，见了郭芙这美貌少女，天大的仇怨也抛到了脑后？倘若斩断你手臂的是个男人，你今日难道也肯饶了他？”想了半日，只好摇头苦笑。他对自己激烈易变的性格非但管制不住，甚且自己也难以明白。\n",
      "\n",
      "行出二百里后，沿途渐有人烟，一路上向农家讨些羊乳牛乳喂郭襄吃了，决意回古墓去找小龙女，不数日间已到了终南山下。\n",
      "\n",
      "回尘旧事，感慨无已，纵马上山，觅路来到古墓之前。“活死人墓”的大石碑巍然耸立，与前无异，墓门却已在李莫愁攻入时封闭，若要进墓，只有钻过水溪及地底潜流，从密道进去。凭他这时内功修为，穿越密道自是绝不费力，然而如何处置郭襄却大为踌躇，这小小婴儿一入水底，必死无疑，但想到小龙女多半便在墓中，进去即可与她相见，哪里还能按捺得住？于是从口袋里取些饼饵嚼得烂了，喂了郭襄几口，在古墓旁找了个山洞，将她放在洞内，拔些荆棘柴草堆在洞口，心想不论在墓中是否能与小龙女相见，都要立即回出，设法安置婴儿。\n",
      "======\n",
      "杨过木棒轻摆，叫道：“瞧着，这是‘萧史乘龙’！”以棒作剑，倏地伸出，噗的一声轻响，武敦儒右胸早着。木棒若是换作利剑，这一剑穿胸而过，他早已性命不保了。\n",
      "\n",
      "武修文见机得快，长剑疾出，攻向杨过右胁，终究还是慢了一步，杨过木棒回转，忽地刺向他的右股。这一招后发而先至，武修文剑尖未及对方身体，手腕先得被棒端刺中，长剑便非脱手不可。他急忙收剑变招，缩腕回剑，左腿踢出，杨过的木棒却已刺向武敦儒肩头，身随棒去，寓守于攻，对武修文这一腿竟是不避而避。武修文一脚踢空，武敦儒却已情势紧迫，疾挥长剑严守门户，才不让木棒刺中了身子。\n",
      "\n",
      "数招之间，二武已是手忙脚乱，拚命守御还有不及，哪有余暇挥剑去削断他的木棒？杨过口中叫出招数：“山外清音，金声玉振，凤曲长鸣，响隔楼台，棹歌中流……”木棒连刺，潇洒自如，着着都是攻势，一招不待二武化解开去，第二招第三招已连绵而至。他东刺一棒，西削一招，迫得二武并肩力抗，竟尔不敢相离半步。二武当时看黄蓉使这剑法，瞧过便算，只道这些俊雅花俏的招数只是为舞剑而用，怎想得到其中竟有如许妙用。听他所叫的招数，似乎当日黄蓉确也说过，二人剑上受制，固极窘迫，心中却更是难过，深信杨过这门玉箫剑法确是黄蓉亲传。怎想得到杨过与黄药师曾相聚多日，得他亲自指点玉箫剑法与弹指神通两门绝技？\n",
      "\n",
      "杨过见二人神色惨然，微感不忍，但想好事做到底，送佛送上西，今日若不将他二人打得服服贴贴，永不敢再见郭芙之面，那么两兄弟日后定要再为她恶斗，直至二人中有一个送命为止。有道是药不瞑眩，厥疾不瘳，既要奏刀治病，非让病人吃些苦头不可，当下催动剑法，着着进迫，竟是一招也不放松。二武愈斗愈惊，但见棒影晃动，自己周身要害似已全在他棒端笼罩之下，只得咬紧牙关，拚命抵御。\n",
      "\n",
      "二武所学的越女剑本来也是一门极厉害的剑法，只是二人火候未到，郭靖又口齿拙劣，不善将剑法中精微奥妙之处详加指点。因此他兄弟若与一般江湖好手较量，取胜固已有余，在杨过木棒之下却是破绽百出，不知其可。杨过的玉箫剑法本来也未学好，只是他武功比二武高得太多，何况二武心中伤痛，急怒交加，不免出手更乱。\n",
      "======\n",
      "对于小龙女，杨过的一条臂膀，比她自己的生死实在重要得多，因此固执着要问。她伸手轻轻抚摸他袖子，丝毫不敢用力，果然，袖子里没有臂膀。她忽然一点也不感到自身的剧痛，因为心中给怜爱充满了，再也不会知道自己的痛楚，轻轻说道：“可怜的过儿，断了很久吗？这时还痛么？”\n",
      "\n",
      "杨过摇摇头，说道：“早就不痛了。只要我见了你面，永远不跟你分开，少一条臂膀又算得甚么？我一条左臂不是也能抱着你么？”\n",
      "\n",
      "小龙女轻轻一笑，只觉他说得很对，躺在他怀抱之中，虽然只一条左臂抱着自己，那也是心满意足了。她本来只求在临死之前能再见他一面，现今实在太好，真的太好了。\n",
      "\n",
      "金轮法王、潇湘子、尹克西、全真五子、众弟子……众蒙古武士……人人一声不响，呆呆的望着这对小情人。在这段时光之中，谁也不想向他们动手，也是谁也不敢向他们动手。\n",
      "\n",
      "有道是“旁若无人”，杨过和小龙女在九大高手、无数蒙古武士虎视眈眈之下缠绵互怜，将所有强敌全都视如无物，那才真是旁若无人了。爱到极处，不但粪土王侯，天下的富贵荣华完全不放在心上，甚至生死大事也视作等闲。杨过和小龙女既然不再想到生死，别说九大高手，便是天下英雄尽至，那又如何？只不过是死罢了。比之那铭心刻骨之爱，死又算得甚么？\n",
      "\n",
      "金轮法王等人当然并不惧怕这两人，只是均感极度诧异，眼见小龙女身受重伤，杨过又只剩一臂，决不能再起而抗拒，但两人互相的缠绵爱怜之中，自然而然有一股凛然之气，有一份无畏的刚勇，令人不敢轻侮。\n",
      "\n",
      "终于小龙女忍不住又问：“你的手臂……手臂是怎么断的？快跟我说。”杨过脸上微微苦笑，说道：“手臂断了，自然是给人家斩的。”\n",
      "\n",
      "小龙女凄然望着他，没想到再追问是谁下的毒手，既已遭到不幸，那么是谁下手都是一样，这时胸口和背上的伤处又剧烈疼痛起来，她自知命不久长，低低的道：“过儿，我求你一件事。”杨过道：“姑姑，难道你忘了，在古墓之中，我就曾答应过你，你要我做甚么，我便做甚么。”小龙女幽幽叹了口气，道：“那是很久很久以前的事啦！”杨过道：“在我永远是一样。”小龙女凄然一笑，低低的道：“我没多久好活了，你陪着我罢，一直瞧着我死，别去陪你的郭……郭芙姑娘。”\n"
     ]
    },
    {
     "data": {
      "text/plain": [
       "'杨过的手臂是被人斩断的。'"
      ]
     },
     "execution_count": 1,
     "metadata": {},
     "output_type": "execute_result"
    }
   ],
   "source": [
    "from langchain.embeddings import HuggingFaceEmbeddings\n",
    "from langchain.vectorstores import Chroma\n",
    "from langchain.llms import OpenAI\n",
    "from langchain.chains.question_answering import load_qa_chain\n",
    "\n",
    "embeddings=HuggingFaceEmbeddings(model_name='shibing624/text2vec-base-chinese')\n",
    "vectorstore = Chroma(\"shendiao\",persist_directory=\"./chroma_db\", embedding_function=embeddings)\n",
    "\n",
    "llm = OpenAI(temperature=0.5,model_name=\"gpt-3.5-turbo-16k\")\n",
    "chain = load_qa_chain(llm, chain_type=\"stuff\")\n",
    "\n",
    "query = \"杨过手怎么断的？\"\n",
    "similar_docs = vectorstore.similarity_search(query, 5)\n",
    "\n",
    "for d in similar_docs:\n",
    "    print(\"======\\n{}\".format(d.page_content))\n",
    "chain.run(input_documents=similar_docs, question=query)"
   ]
  }
 ],
 "metadata": {
  "kernelspec": {
   "display_name": "Python 3",
   "language": "python",
   "name": "python3"
  },
  "language_info": {
   "codemirror_mode": {
    "name": "ipython",
    "version": 3
   },
   "file_extension": ".py",
   "mimetype": "text/x-python",
   "name": "python",
   "nbconvert_exporter": "python",
   "pygments_lexer": "ipython3",
   "version": "3.10.11"
  },
  "orig_nbformat": 4
 },
 "nbformat": 4,
 "nbformat_minor": 2
}
