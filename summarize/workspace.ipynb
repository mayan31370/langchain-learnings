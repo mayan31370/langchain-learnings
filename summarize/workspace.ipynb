{
 "cells": [
  {
   "cell_type": "code",
   "execution_count": null,
   "metadata": {},
   "outputs": [],
   "source": [
    "%pip install openai tiktoken chromadb langchain"
   ]
  },
  {
   "cell_type": "markdown",
   "metadata": {},
   "source": [
    "# 使用MapReduce的方式来提炼《神雕侠侣》"
   ]
  },
  {
   "cell_type": "code",
   "execution_count": 28,
   "metadata": {},
   "outputs": [
    {
     "name": "stderr",
     "output_type": "stream",
     "text": [
      "Retrying langchain.chat_models.openai.ChatOpenAI.completion_with_retry.<locals>._completion_with_retry in 4.0 seconds as it raised APIConnectionError: Error communicating with OpenAI: ('Connection aborted.', RemoteDisconnected('Remote end closed connection without response')).\n"
     ]
    },
    {
     "name": "stdout",
     "output_type": "stream",
     "text": [
      "根据提供的文件列表，可以总结出以下主题：\n",
      "\n",
      "1. 批判资本主义：文件讨论了对资本主义的批判，强调了资本主义制度的剥削性质和不公平性。\n",
      "\n",
      "2. 阶级斗争：文件探讨了资产阶级（资本家阶级）和无产阶级（工人阶级）之间的阶级斗争，强调了工人阶级团结起来推翻资产阶级的必要性。\n",
      "\n",
      "3. 社会主义和共产主义：这些文件讨论了社会主义和共产主义作为替代资本主义的理论和实践方面。它们探讨了这些意识形态的原则和目标，以及它们创造更公平和正义社会的潜力。\n",
      "\n",
      "4. 对立政党的态度：《共产党宣言》还讨论了共产主义者对各种反对派的立场。它讨论了共产主义者与其他政治团体之间的关系，并强调了工人阶级团结的必要性。\n",
      "\n",
      "总的来说，主要主题围绕对资本主义的批判、社会阶级斗争、社会主义和共产主义的目标，以及共产党在为工人阶级的权益和利益辩护方面的作用。\n"
     ]
    }
   ],
   "source": [
    "from langchain.text_splitter import RecursiveCharacterTextSplitter\n",
    "from langchain.chains import ReduceDocumentsChain, MapReduceDocumentsChain\n",
    "from langchain.document_loaders import WebBaseLoader\n",
    "from langchain.document_loaders import UnstructuredEPubLoader\n",
    "from langchain.chains.llm import LLMChain\n",
    "from langchain.prompts import PromptTemplate\n",
    "from langchain.chains.combine_documents.stuff import StuffDocumentsChain\n",
    "from langchain.chat_models import ChatOpenAI\n",
    "import time\n",
    "\n",
    "llm = ChatOpenAI(temperature=0, model_name=\"gpt-3.5-turbo-16k\",openai_api_base=\"http://3.101.17.202/v1\")\n",
    "\n",
    "# Map\n",
    "map_template = \"\"\"The following is a set of documents\n",
    "{docs}\n",
    "Based on this list of docs, please identify the main themes \n",
    "Helpful Answer:\"\"\"\n",
    "map_prompt = PromptTemplate.from_template(map_template)\n",
    "map_chain = LLMChain(llm=llm, prompt=map_prompt)\n",
    "\n",
    "# Reduce\n",
    "reduce_template = \"\"\"The following is set of summaries:\n",
    "{doc_summaries}\n",
    "Take these and distill it into a final, consolidated summary of the main themes in Simplfied Chinese. \n",
    "Helpful Answer:\"\"\"\n",
    "reduce_prompt = PromptTemplate.from_template(reduce_template)\n",
    "reduce_chain = LLMChain(llm=llm,prompt=reduce_prompt)\n",
    "combine_documents_chain = StuffDocumentsChain(\n",
    "    llm_chain=reduce_chain, document_variable_name=\"doc_summaries\"\n",
    ")\n",
    "\n",
    "# 生成摘要（递归合并）\n",
    "reduce_documents_chain = ReduceDocumentsChain(\n",
    "    combine_documents_chain=combine_documents_chain,\n",
    "    collapse_documents_chain=combine_documents_chain,\n",
    "    token_max=16000,\n",
    ")\n",
    "\n",
    "# Map - Reduce\n",
    "map_reduce_chain = MapReduceDocumentsChain(\n",
    "    llm_chain=map_chain,\n",
    "    reduce_documents_chain=reduce_documents_chain,\n",
    "    document_variable_name=\"docs\"\n",
    ")\n",
    "\n",
    "text_splitter = RecursiveCharacterTextSplitter.from_tiktoken_encoder(\n",
    "    chunk_size=12000, chunk_overlap=0 # 注意：不同于知识库，overlap一定要是0，不然会有重复内容。\n",
    ")\n",
    "\n",
    "# loader = UnstructuredEPubLoader('shendiao.epub')\n",
    "loader = WebBaseLoader(\"https://www.marxists.org/chinese/marx/01.htm\")\n",
    "docs = loader.load()\n",
    "split_docs = text_splitter.split_documents(docs)\n",
    "\n",
    "map_reduce_chain.run(split_docs)\n",
    "print( map_reduce_chain.run(split_docs))\n"
   ]
  },
  {
   "cell_type": "markdown",
   "metadata": {},
   "source": [
    "### 使用 Refine 方式来提取"
   ]
  },
  {
   "cell_type": "code",
   "execution_count": 29,
   "metadata": {},
   "outputs": [
    {
     "name": "stdout",
     "output_type": "stream",
     "text": [
      "根据新的背景信息，无产阶级的早期运动失败是因为无产阶级本身还不够发展，无产阶级解放的物质条件还没有具备。早期的社会主义和共产主义体系是在无产阶级和资产阶级之间的斗争还不发展的最初时期出现的，这些体系的创始人看不到无产阶级的历史主动性和政治运动，只能通过幻想的条件来创造无产阶级解放的物质条件。这些体系的创始人虽然意识到阶级对立和社会瓦解的作用，但他们的主张仍带有纯粹空想的性质。批判的空想的社会主义和共产主义逐渐失去实践意义和理论根据，他们的信徒也变得反动和保守。共产党人支持各种反对现存社会制度和政治制度的革命运动，并强调所有制问题是运动的基本问题。他们努力争取全世界民主政党之间的团结和协调，并公开宣布只有通过暴力推翻现存社会制度才能实现他们的目的。《共产党宣言》在国际工人运动中起到了重要的作用，它是无产阶级运动的纲领，被广泛传播并被工人阶级公认。此外，还有一些其他的空想社会主义者和共产主义者，如英国的欧文派、法国的傅立叶派、埃・卡贝和魏特林，他们的理论和实践也都有一定的局限性和失败的原因。根据新的背景信息，雅科比是德国医生，共产主义者同盟盟员和特使，他在科隆共产党人案件中被控“侮辱国王陛下”并被监禁，后流亡英国并迁居美国，在美国宣传马克思主义思想。亚历山大三世是俄国皇帝。\n"
     ]
    }
   ],
   "source": [
    "from langchain.chains.summarize import load_summarize_chain\n",
    "from langchain.text_splitter import RecursiveCharacterTextSplitter\n",
    "from langchain.chat_models import ChatOpenAI\n",
    "from langchain.prompts import PromptTemplate\n",
    "from langchain.document_loaders import WebBaseLoader\n",
    "from langchain.document_loaders import UnstructuredEPubLoader\n",
    "\n",
    "llm = ChatOpenAI(temperature=0, model_name=\"gpt-3.5-turbo-16k\",openai_api_base=\"http://3.101.17.202/v1\")\n",
    "prompt_template = \"\"\"Write a concise summary of the following:\n",
    "{text}\n",
    "CONCISE SUMMARY:\"\"\"\n",
    "prompt = PromptTemplate.from_template(prompt_template)\n",
    "\n",
    "refine_template = (\n",
    "    \"Your job is to produce a final summary\\n\"\n",
    "    \"We have provided an existing summary up to a certain point: {existing_answer}\\n\"\n",
    "    \"We have the opportunity to refine the existing summary\"\n",
    "    \"(only if needed) with some more context below.\\n\"\n",
    "    \"------------\\n\"\n",
    "    \"{text}\\n\" \n",
    "    \"------------\\n\"\n",
    "    \"Given the new context, refine the original summary in Sinplfied Chinese.\"\n",
    "    \"If the context isn't useful, return the original summary.\"\n",
    ")\n",
    "refine_prompt = PromptTemplate.from_template(refine_template)\n",
    "chain = load_summarize_chain(\n",
    "    llm=llm,\n",
    "    chain_type=\"refine\",\n",
    "    question_prompt=prompt,\n",
    "    refine_prompt=refine_prompt,\n",
    "    input_key=\"input_documents\",\n",
    "    output_key=\"output_text\",\n",
    ")\n",
    "\n",
    "loader = WebBaseLoader(\"https://www.marxists.org/chinese/marx/01.htm\")\n",
    "docs = loader.load()\n",
    "text_splitter = RecursiveCharacterTextSplitter.from_tiktoken_encoder(\n",
    "    chunk_size=12000, chunk_overlap=0 # 注意：不同于知识库，overlap一定要是0，不然会有重复内容。\n",
    ")\n",
    "split_docs = text_splitter.split_documents(docs)\n",
    "\n",
    "result = chain({\"input_documents\": split_docs}, return_only_outputs=True)\n",
    "print(result['output_text'])"
   ]
  },
  {
   "cell_type": "markdown",
   "metadata": {},
   "source": [
    "可能那种靠正序时间线推进的小说类文章更适合使用 Refine 的模式。"
   ]
  }
 ],
 "metadata": {
  "kernelspec": {
   "display_name": "Python 3",
   "language": "python",
   "name": "python3"
  },
  "language_info": {
   "codemirror_mode": {
    "name": "ipython",
    "version": 3
   },
   "file_extension": ".py",
   "mimetype": "text/x-python",
   "name": "python",
   "nbconvert_exporter": "python",
   "pygments_lexer": "ipython3",
   "version": "3.10.11"
  },
  "orig_nbformat": 4
 },
 "nbformat": 4,
 "nbformat_minor": 2
}
